{
  "nbformat": 4,
  "nbformat_minor": 0,
  "metadata": {
    "colab": {
      "provenance": []
    },
    "kernelspec": {
      "name": "python3",
      "display_name": "Python 3"
    },
    "language_info": {
      "name": "python"
    }
  },
  "cells": [
    {
      "cell_type": "code",
      "execution_count": null,
      "metadata": {
        "colab": {
          "base_uri": "https://localhost:8080/"
        },
        "id": "FtwGGzr6hs6t",
        "outputId": "42685bcf-62d1-40c1-c80a-d82a420eb8e9"
      },
      "outputs": [
        {
          "output_type": "stream",
          "name": "stdout",
          "text": [
            "Mounted at /content/drive\n"
          ]
        }
      ],
      "source": [
        "from google.colab import drive\n",
        "drive.mount('/content/drive')"
      ]
    },
    {
      "cell_type": "code",
      "source": [
        "import pandas as pd\n",
        "from sklearn.model_selection import train_test_split\n",
        "from collections import defaultdict\n",
        "from sklearn.metrics import accuracy_score, classification_report"
      ],
      "metadata": {
        "id": "GWW2RHMwh1Wz"
      },
      "execution_count": null,
      "outputs": []
    },
    {
      "cell_type": "code",
      "source": [
        "Khoang_gtri = {}\n",
        "DS_Nhan = {}\n"
      ],
      "metadata": {
        "id": "4LoWTrz7h1Zj"
      },
      "execution_count": null,
      "outputs": []
    },
    {
      "cell_type": "code",
      "source": [
        "class NaiveBayesClassifier:\n",
        "    def __init__(self):\n",
        "        self.XS_CoDK_kqua = defaultdict(float)\n",
        "        self.XS_DacTrung = defaultdict(lambda: defaultdict(float))\n",
        "        self.Gtri_DacTrung = defaultdict(set)\n",
        "    def fit(self, data, label_col):\n",
        "        self.classes = data[label_col].unique()\n",
        "        TongDT = len(data)\n",
        "        for cls in self.classes:\n",
        "            class_data = data[data[label_col] == cls]\n",
        "            self.XS_CoDK_kqua[cls] = len(class_data) / TongDT\n",
        "            for col in data.columns:\n",
        "                if col == label_col:\n",
        "                    continue\n",
        "                self.Gtri_DacTrung[col].update(data[col].unique())\n",
        "                for value in self.Gtri_DacTrung[col]:\n",
        "\n",
        "                    self.XS_DacTrung[(col, value)][cls] = (len(class_data[class_data[col] == value])/ (len(class_data)))\n",
        "\n",
        "    def predict(self, conditions):\n",
        "        max_prob = 0\n",
        "        best_class = None\n",
        "        for cls in self.classes:\n",
        "            XS_SK = self.XS_CoDK_kqua[cls]\n",
        "            for feature, value in conditions.items():\n",
        "\n",
        "                if value not in self.Gtri_DacTrung[feature]:\n",
        "                    likelihood = 1 / (len(self.Gtri_DacTrung[feature]) + len(self.classes))\n",
        "                else:\n",
        "                    likelihood = self.XS_DacTrung[(feature, value)].get(cls, 1 / (len(self.classes)))\n",
        "                XS_SK *= likelihood\n",
        "\n",
        "            if XS_SK > max_prob:\n",
        "                max_prob = XS_SK\n",
        "                best_class = cls\n",
        "\n",
        "        return best_class"
      ],
      "metadata": {
        "id": "Ouu26aoHh1e7"
      },
      "execution_count": null,
      "outputs": []
    },
    {
      "cell_type": "code",
      "source": [
        "def Tinh_BMI(data, height_col=\"Height\", weight_col=\"Weight\"):\n",
        "    if data[height_col].max() > 10:\n",
        "        data[height_col] = data[height_col] / 100.0\n",
        "    data[\"BMI\"] = data[weight_col] / (data[height_col] ** 2)\n",
        "    return data\n"
      ],
      "metadata": {
        "id": "mqhh3erdh1h1"
      },
      "execution_count": null,
      "outputs": []
    },
    {
      "cell_type": "code",
      "source": [
        "def PhanLoai_BMI(data):\n",
        "    bins = [0, 18.5, 24.9, 29.9, float(\"inf\")]\n",
        "    labels = [\"Underweight\", \"Normal weight\", \"Overweight\", \"Obesity\"]\n",
        "    data[\"BMI_category\"] = pd.cut(data[\"BMI\"], bins=bins, labels=labels)\n",
        "    return data\n"
      ],
      "metadata": {
        "id": "eZApuGaYh1lp"
      },
      "execution_count": null,
      "outputs": []
    },
    {
      "cell_type": "code",
      "source": [
        "path = \"/content/drive/MyDrive/Colab Notebooks/Data/ObesityDataSet_raw_and_data_sinthetic_shuffled.csv\"\n",
        "data = pd.read_csv(path)"
      ],
      "metadata": {
        "id": "v-7NZ0Nih1on"
      },
      "execution_count": null,
      "outputs": []
    },
    {
      "cell_type": "code",
      "source": [
        "data = Tinh_BMI(data)\n",
        "data = PhanLoai_BMI(data)\n",
        "data = data.drop(columns=[\"BMI\"])\n",
        "data = data.drop(columns=[\"Height\", \"Weight\"])\n",
        "temp_Original_Data = data.copy(deep=True)\n",
        "x = {}\n",
        "numeric_cols = data.select_dtypes(include=[\"float64\", \"int64\"]).columns\n"
      ],
      "metadata": {
        "id": "Za1qsDohh1rB"
      },
      "execution_count": null,
      "outputs": []
    },
    {
      "cell_type": "code",
      "source": [
        "def chia_khoang_cac_cot_so(data):\n",
        "    for col in numeric_cols:\n",
        "        bins = pd.qcut(data[col], q=4, duplicates=\"drop\", retbins=True)[1]\n",
        "        Khoang_gtri[col] = bins\n",
        "        labels = [f\"bin_{i}\" for i in range(1, len(bins))]\n",
        "        DS_Nhan[col] = labels\n",
        "        data[col] = pd.cut(data[col], bins=bins, labels=labels, include_lowest=True)\n",
        "    return data"
      ],
      "metadata": {
        "id": "mBi9QbtHh2RT"
      },
      "execution_count": null,
      "outputs": []
    },
    {
      "cell_type": "code",
      "source": [
        "dataC = chia_khoang_cac_cot_so(data)\n",
        "label_column = \"NObeyesdad\"\n",
        "X = dataC.drop(columns=[label_column])\n",
        "y = dataC[label_column]\n",
        "\n",
        "temp_Original_Data = temp_Original_Data.drop(columns=[label_column])\n",
        "X_train, X_val, y_train, y_val = train_test_split(X, y, test_size=0.3)\n",
        "\n",
        "train_data = pd.concat([X_train, y_train], axis=1)\n",
        "nb = NaiveBayesClassifier()\n",
        "nb.fit(train_data, label_col=label_column)\n",
        "\n",
        "\n",
        "val_conditions = [dict(row) for _, row in X_val.iterrows()]\n",
        "val_predictions = [nb.predict(conditions) for conditions in val_conditions]\n",
        "\n",
        "\n",
        "accuracy = accuracy_score(y_val, val_predictions)\n",
        "report = classification_report(y_val, val_predictions)\n",
        "\n",
        "print(f\"Độ chính xác trên tập xác thực: {accuracy:.2f}\")\n",
        "print(\"\\nBáo cáo phân loại:\")\n",
        "print(report)\n"
      ],
      "metadata": {
        "colab": {
          "base_uri": "https://localhost:8080/"
        },
        "id": "bCHa2QCyh2UT",
        "outputId": "6d39aa71-2d27-459d-87c1-7a9f45dc6fa4"
      },
      "execution_count": null,
      "outputs": [
        {
          "output_type": "stream",
          "name": "stdout",
          "text": [
            "Độ chính xác trên tập xác thực: 0.88\n",
            "\n",
            "Báo cáo phân loại:\n",
            "                     precision    recall  f1-score   support\n",
            "\n",
            "Insufficient_Weight       0.99      0.98      0.98        88\n",
            "      Normal_Weight       0.95      0.98      0.97        86\n",
            "     Obesity_Type_I       0.88      0.81      0.84       107\n",
            "    Obesity_Type_II       0.82      0.92      0.87        95\n",
            "   Obesity_Type_III       0.98      0.97      0.98       101\n",
            " Overweight_Level_I       0.75      0.65      0.70        71\n",
            "Overweight_Level_II       0.75      0.81      0.78        86\n",
            "\n",
            "           accuracy                           0.88       634\n",
            "          macro avg       0.88      0.87      0.87       634\n",
            "       weighted avg       0.88      0.88      0.88       634\n",
            "\n"
          ]
        }
      ]
    },
    {
      "cell_type": "code",
      "source": [
        "print(\"\\nHãy nhập dữ liệu cho các đặc trưng sau:\")\n",
        "conditions = {}\n",
        "for col in temp_Original_Data.columns:\n",
        "    if col == \"BMI_category\":\n",
        "\n",
        "        height = float(input(\"Nhập chiều cao (m): \").strip())\n",
        "        weight = float(input(\"Nhập cân nặng (kg): \").strip())\n",
        "        bmi = weight/(height**2)\n",
        "        bins = [0, 18.5, 24.9, 29.9, float(\"inf\")]\n",
        "        labels = [\"Underweight\", \"Normal weight\", \"Overweight\", \"Obesity\"]\n",
        "        bmi_category = pd.cut([bmi], bins=bins, labels=labels)[0]\n",
        "        conditions[col] = bmi_category\n",
        "        print(f\"Chỉ số BMI: {bmi:.2f}\")\n",
        "    elif temp_Original_Data[col].dtype in [\"float64\", \"int64\"]:\n",
        "\n",
        "        value = input(f\"Nhập giá trị cho {col}: \").strip()\n",
        "        conditions[col] = value\n",
        "    else:\n",
        "        print(f\"- {col} (các giá trị khả dụng: {list(temp_Original_Data[col].unique())}):\")\n",
        "        value = input(f\"Nhập giá trị cho {col}: \").strip()\n",
        "        conditions[col] = value\n",
        "\n",
        "dulieu = {}\n",
        "conditions = pd.DataFrame(conditions, index=[0])\n",
        "\n",
        "for col in numeric_cols:\n",
        "    conditions[col] = pd.to_numeric(conditions[col], errors='coerce')\n",
        "\n",
        "    dulieu[col] = pd.cut(conditions[col], bins=Khoang_gtri[col], labels=DS_Nhan[col], include_lowest=True)\n",
        "\n",
        "dulieu = pd.DataFrame(dulieu)\n",
        "result = nb.predict(dulieu.iloc[0].to_dict())\n",
        "print(f\"\\nKết quả dự đoán: {result}\")"
      ],
      "metadata": {
        "colab": {
          "base_uri": "https://localhost:8080/"
        },
        "id": "oIJJ5BJJh2Wx",
        "outputId": "20fd8235-b896-48af-9f1b-872f7005ce1e"
      },
      "execution_count": null,
      "outputs": [
        {
          "output_type": "stream",
          "name": "stdout",
          "text": [
            "\n",
            "Hãy nhập dữ liệu cho các đặc trưng sau:\n",
            "- Gender (các giá trị khả dụng: ['Female', 'Male']):\n",
            "Nhập giá trị cho Gender: Male\n",
            "Nhập giá trị cho Age: 32\n",
            "- family_history_with_overweight (các giá trị khả dụng: ['yes', 'no']):\n",
            "Nhập giá trị cho family_history_with_overweight: no\n",
            "- FAVC (các giá trị khả dụng: ['yes', 'no']):\n",
            "Nhập giá trị cho FAVC: no\n",
            "Nhập giá trị cho FCVC: 2\n",
            "Nhập giá trị cho NCP: 1\n",
            "- CAEC (các giá trị khả dụng: ['Sometimes', 'Frequently', 'Always', 'no']):\n",
            "Nhập giá trị cho CAEC: no\n",
            "- SMOKE (các giá trị khả dụng: ['no', 'yes']):\n",
            "Nhập giá trị cho SMOKE: yes\n",
            "Nhập giá trị cho CH2O: 2\n",
            "- SCC (các giá trị khả dụng: ['no', 'yes']):\n",
            "Nhập giá trị cho SCC: 2\n",
            "Nhập giá trị cho FAF: 1\n",
            "Nhập giá trị cho TUE: 1\n",
            "- CALC (các giá trị khả dụng: ['Sometimes', 'no', 'Frequently', 'Always']):\n",
            "Nhập giá trị cho CALC: no\n",
            "- MTRANS (các giá trị khả dụng: ['Public_Transportation', 'Automobile', 'Walking', 'Motorbike', 'Bike']):\n",
            "Nhập giá trị cho MTRANS: Bike\n",
            "Nhập chiều cao (m): 1.65\n",
            "Nhập cân nặng (kg): 68\n",
            "Chỉ số BMI: 24.98\n",
            "\n",
            "Kết quả dự đoán: Overweight_Level_II\n"
          ]
        }
      ]
    },
    {
      "cell_type": "code",
      "source": [],
      "metadata": {
        "id": "ZuEQhnVIh2ZS"
      },
      "execution_count": null,
      "outputs": []
    },
    {
      "cell_type": "code",
      "source": [],
      "metadata": {
        "id": "orgmIKfGh2cR"
      },
      "execution_count": null,
      "outputs": []
    },
    {
      "cell_type": "code",
      "source": [],
      "metadata": {
        "id": "DYdu7PtWh2fK"
      },
      "execution_count": null,
      "outputs": []
    },
    {
      "cell_type": "code",
      "source": [],
      "metadata": {
        "id": "2Rx1sBnEh2hy"
      },
      "execution_count": null,
      "outputs": []
    }
  ]
}